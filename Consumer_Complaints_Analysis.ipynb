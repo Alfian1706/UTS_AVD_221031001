{
  "cells": [
    {
      "cell_type": "markdown",
      "metadata": {
        "id": "view-in-github",
        "colab_type": "text"
      },
      "source": [
        "<a href=\"https://colab.research.google.com/github/Alfian1706/UTS_AVD_221031001/blob/main/Consumer_Complaints_Analysis.ipynb\" target=\"_parent\"><img src=\"https://colab.research.google.com/assets/colab-badge.svg\" alt=\"Open In Colab\"/></a>"
      ]
    },
    {
      "cell_type": "markdown",
      "id": "8f3d2be5",
      "metadata": {
        "id": "8f3d2be5"
      },
      "source": [
        "## Import Library"
      ]
    },
    {
      "cell_type": "code",
      "execution_count": 1,
      "metadata": {
        "id": "CB8xw2uvoEZq"
      },
      "outputs": [],
      "source": [
        "# 1. Import Library\n",
        "import pandas as pd\n",
        "import numpy as np\n",
        "import matplotlib.pyplot as plt\n",
        "import seaborn as sns\n",
        "\n",
        "from sklearn.model_selection import train_test_split\n",
        "from sklearn.preprocessing import StandardScaler, LabelEncoder\n",
        "from sklearn.linear_model import LinearRegression\n",
        "from sklearn.naive_bayes import GaussianNB\n",
        "from sklearn.tree import DecisionTreeRegressor\n",
        "from sklearn.svm import SVR\n",
        "from sklearn.neighbors import KNeighborsRegressor\n",
        "from sklearn.metrics import mean_squared_error, r2_score"
      ],
      "id": "CB8xw2uvoEZq"
    },
    {
      "cell_type": "markdown",
      "id": "33923c82",
      "metadata": {
        "id": "33923c82"
      },
      "source": [
        "## Load Dataset"
      ]
    },
    {
      "cell_type": "code",
      "execution_count": 2,
      "id": "1b0bcfa1",
      "metadata": {
        "id": "1b0bcfa1",
        "colab": {
          "base_uri": "https://localhost:8080/",
          "height": 434
        },
        "outputId": "03c84cb6-74b1-4c1e-e7d3-f69c36238f17"
      },
      "outputs": [
        {
          "output_type": "stream",
          "name": "stderr",
          "text": [
            "<ipython-input-2-b8ece43c0893>:4: DtypeWarning: Columns (5,11) have mixed types. Specify dtype option on import or set low_memory=False.\n",
            "  df = pd.read_csv('consumer_complaints.csv')\n"
          ]
        },
        {
          "output_type": "execute_result",
          "data": {
            "text/plain": [
              "  date_received           product               sub_product  \\\n",
              "0    08/30/2013          Mortgage            Other mortgage   \n",
              "1    08/30/2013          Mortgage            Other mortgage   \n",
              "2    08/30/2013  Credit reporting                       NaN   \n",
              "3    08/30/2013      Student loan  Non-federal student loan   \n",
              "4    08/30/2013   Debt collection               Credit card   \n",
              "\n",
              "                                      issue  \\\n",
              "0  Loan modification,collection,foreclosure   \n",
              "1  Loan servicing, payments, escrow account   \n",
              "2    Incorrect information on credit report   \n",
              "3                        Repaying your loan   \n",
              "4        False statements or representation   \n",
              "\n",
              "                           sub_issue consumer_complaint_narrative  \\\n",
              "0                                NaN                          NaN   \n",
              "1                                NaN                          NaN   \n",
              "2                     Account status                          NaN   \n",
              "3                 Repaying your loan                          NaN   \n",
              "4  Attempted to collect wrong amount                          NaN   \n",
              "\n",
              "  company_public_response                          company state zipcode tags  \\\n",
              "0                     NaN                     U.S. Bancorp    CA   95993  NaN   \n",
              "1                     NaN            Wells Fargo & Company    CA   91104  NaN   \n",
              "2                     NaN            Wells Fargo & Company    NY   11764  NaN   \n",
              "3                     NaN          Navient Solutions, Inc.    MD   21402  NaN   \n",
              "4                     NaN  Resurgent Capital Services L.P.    GA   30106  NaN   \n",
              "\n",
              "  consumer_consent_provided submitted_via date_sent_to_company  \\\n",
              "0                       NaN      Referral           09/03/2013   \n",
              "1                       NaN      Referral           09/03/2013   \n",
              "2                       NaN   Postal mail           09/18/2013   \n",
              "3                       NaN         Email           08/30/2013   \n",
              "4                       NaN           Web           08/30/2013   \n",
              "\n",
              "  company_response_to_consumer timely_response consumer_disputed?  \\\n",
              "0      Closed with explanation             Yes                Yes   \n",
              "1      Closed with explanation             Yes                Yes   \n",
              "2      Closed with explanation             Yes                 No   \n",
              "3      Closed with explanation             Yes                Yes   \n",
              "4      Closed with explanation             Yes                Yes   \n",
              "\n",
              "   complaint_id  \n",
              "0        511074  \n",
              "1        511080  \n",
              "2        510473  \n",
              "3        510326  \n",
              "4        511067  "
            ],
            "text/html": [
              "\n",
              "  <div id=\"df-8e8c7a47-8260-4811-9e92-8f855fcd7631\" class=\"colab-df-container\">\n",
              "    <div>\n",
              "<style scoped>\n",
              "    .dataframe tbody tr th:only-of-type {\n",
              "        vertical-align: middle;\n",
              "    }\n",
              "\n",
              "    .dataframe tbody tr th {\n",
              "        vertical-align: top;\n",
              "    }\n",
              "\n",
              "    .dataframe thead th {\n",
              "        text-align: right;\n",
              "    }\n",
              "</style>\n",
              "<table border=\"1\" class=\"dataframe\">\n",
              "  <thead>\n",
              "    <tr style=\"text-align: right;\">\n",
              "      <th></th>\n",
              "      <th>date_received</th>\n",
              "      <th>product</th>\n",
              "      <th>sub_product</th>\n",
              "      <th>issue</th>\n",
              "      <th>sub_issue</th>\n",
              "      <th>consumer_complaint_narrative</th>\n",
              "      <th>company_public_response</th>\n",
              "      <th>company</th>\n",
              "      <th>state</th>\n",
              "      <th>zipcode</th>\n",
              "      <th>tags</th>\n",
              "      <th>consumer_consent_provided</th>\n",
              "      <th>submitted_via</th>\n",
              "      <th>date_sent_to_company</th>\n",
              "      <th>company_response_to_consumer</th>\n",
              "      <th>timely_response</th>\n",
              "      <th>consumer_disputed?</th>\n",
              "      <th>complaint_id</th>\n",
              "    </tr>\n",
              "  </thead>\n",
              "  <tbody>\n",
              "    <tr>\n",
              "      <th>0</th>\n",
              "      <td>08/30/2013</td>\n",
              "      <td>Mortgage</td>\n",
              "      <td>Other mortgage</td>\n",
              "      <td>Loan modification,collection,foreclosure</td>\n",
              "      <td>NaN</td>\n",
              "      <td>NaN</td>\n",
              "      <td>NaN</td>\n",
              "      <td>U.S. Bancorp</td>\n",
              "      <td>CA</td>\n",
              "      <td>95993</td>\n",
              "      <td>NaN</td>\n",
              "      <td>NaN</td>\n",
              "      <td>Referral</td>\n",
              "      <td>09/03/2013</td>\n",
              "      <td>Closed with explanation</td>\n",
              "      <td>Yes</td>\n",
              "      <td>Yes</td>\n",
              "      <td>511074</td>\n",
              "    </tr>\n",
              "    <tr>\n",
              "      <th>1</th>\n",
              "      <td>08/30/2013</td>\n",
              "      <td>Mortgage</td>\n",
              "      <td>Other mortgage</td>\n",
              "      <td>Loan servicing, payments, escrow account</td>\n",
              "      <td>NaN</td>\n",
              "      <td>NaN</td>\n",
              "      <td>NaN</td>\n",
              "      <td>Wells Fargo &amp; Company</td>\n",
              "      <td>CA</td>\n",
              "      <td>91104</td>\n",
              "      <td>NaN</td>\n",
              "      <td>NaN</td>\n",
              "      <td>Referral</td>\n",
              "      <td>09/03/2013</td>\n",
              "      <td>Closed with explanation</td>\n",
              "      <td>Yes</td>\n",
              "      <td>Yes</td>\n",
              "      <td>511080</td>\n",
              "    </tr>\n",
              "    <tr>\n",
              "      <th>2</th>\n",
              "      <td>08/30/2013</td>\n",
              "      <td>Credit reporting</td>\n",
              "      <td>NaN</td>\n",
              "      <td>Incorrect information on credit report</td>\n",
              "      <td>Account status</td>\n",
              "      <td>NaN</td>\n",
              "      <td>NaN</td>\n",
              "      <td>Wells Fargo &amp; Company</td>\n",
              "      <td>NY</td>\n",
              "      <td>11764</td>\n",
              "      <td>NaN</td>\n",
              "      <td>NaN</td>\n",
              "      <td>Postal mail</td>\n",
              "      <td>09/18/2013</td>\n",
              "      <td>Closed with explanation</td>\n",
              "      <td>Yes</td>\n",
              "      <td>No</td>\n",
              "      <td>510473</td>\n",
              "    </tr>\n",
              "    <tr>\n",
              "      <th>3</th>\n",
              "      <td>08/30/2013</td>\n",
              "      <td>Student loan</td>\n",
              "      <td>Non-federal student loan</td>\n",
              "      <td>Repaying your loan</td>\n",
              "      <td>Repaying your loan</td>\n",
              "      <td>NaN</td>\n",
              "      <td>NaN</td>\n",
              "      <td>Navient Solutions, Inc.</td>\n",
              "      <td>MD</td>\n",
              "      <td>21402</td>\n",
              "      <td>NaN</td>\n",
              "      <td>NaN</td>\n",
              "      <td>Email</td>\n",
              "      <td>08/30/2013</td>\n",
              "      <td>Closed with explanation</td>\n",
              "      <td>Yes</td>\n",
              "      <td>Yes</td>\n",
              "      <td>510326</td>\n",
              "    </tr>\n",
              "    <tr>\n",
              "      <th>4</th>\n",
              "      <td>08/30/2013</td>\n",
              "      <td>Debt collection</td>\n",
              "      <td>Credit card</td>\n",
              "      <td>False statements or representation</td>\n",
              "      <td>Attempted to collect wrong amount</td>\n",
              "      <td>NaN</td>\n",
              "      <td>NaN</td>\n",
              "      <td>Resurgent Capital Services L.P.</td>\n",
              "      <td>GA</td>\n",
              "      <td>30106</td>\n",
              "      <td>NaN</td>\n",
              "      <td>NaN</td>\n",
              "      <td>Web</td>\n",
              "      <td>08/30/2013</td>\n",
              "      <td>Closed with explanation</td>\n",
              "      <td>Yes</td>\n",
              "      <td>Yes</td>\n",
              "      <td>511067</td>\n",
              "    </tr>\n",
              "  </tbody>\n",
              "</table>\n",
              "</div>\n",
              "    <div class=\"colab-df-buttons\">\n",
              "\n",
              "  <div class=\"colab-df-container\">\n",
              "    <button class=\"colab-df-convert\" onclick=\"convertToInteractive('df-8e8c7a47-8260-4811-9e92-8f855fcd7631')\"\n",
              "            title=\"Convert this dataframe to an interactive table.\"\n",
              "            style=\"display:none;\">\n",
              "\n",
              "  <svg xmlns=\"http://www.w3.org/2000/svg\" height=\"24px\" viewBox=\"0 -960 960 960\">\n",
              "    <path d=\"M120-120v-720h720v720H120Zm60-500h600v-160H180v160Zm220 220h160v-160H400v160Zm0 220h160v-160H400v160ZM180-400h160v-160H180v160Zm440 0h160v-160H620v160ZM180-180h160v-160H180v160Zm440 0h160v-160H620v160Z\"/>\n",
              "  </svg>\n",
              "    </button>\n",
              "\n",
              "  <style>\n",
              "    .colab-df-container {\n",
              "      display:flex;\n",
              "      gap: 12px;\n",
              "    }\n",
              "\n",
              "    .colab-df-convert {\n",
              "      background-color: #E8F0FE;\n",
              "      border: none;\n",
              "      border-radius: 50%;\n",
              "      cursor: pointer;\n",
              "      display: none;\n",
              "      fill: #1967D2;\n",
              "      height: 32px;\n",
              "      padding: 0 0 0 0;\n",
              "      width: 32px;\n",
              "    }\n",
              "\n",
              "    .colab-df-convert:hover {\n",
              "      background-color: #E2EBFA;\n",
              "      box-shadow: 0px 1px 2px rgba(60, 64, 67, 0.3), 0px 1px 3px 1px rgba(60, 64, 67, 0.15);\n",
              "      fill: #174EA6;\n",
              "    }\n",
              "\n",
              "    .colab-df-buttons div {\n",
              "      margin-bottom: 4px;\n",
              "    }\n",
              "\n",
              "    [theme=dark] .colab-df-convert {\n",
              "      background-color: #3B4455;\n",
              "      fill: #D2E3FC;\n",
              "    }\n",
              "\n",
              "    [theme=dark] .colab-df-convert:hover {\n",
              "      background-color: #434B5C;\n",
              "      box-shadow: 0px 1px 3px 1px rgba(0, 0, 0, 0.15);\n",
              "      filter: drop-shadow(0px 1px 2px rgba(0, 0, 0, 0.3));\n",
              "      fill: #FFFFFF;\n",
              "    }\n",
              "  </style>\n",
              "\n",
              "    <script>\n",
              "      const buttonEl =\n",
              "        document.querySelector('#df-8e8c7a47-8260-4811-9e92-8f855fcd7631 button.colab-df-convert');\n",
              "      buttonEl.style.display =\n",
              "        google.colab.kernel.accessAllowed ? 'block' : 'none';\n",
              "\n",
              "      async function convertToInteractive(key) {\n",
              "        const element = document.querySelector('#df-8e8c7a47-8260-4811-9e92-8f855fcd7631');\n",
              "        const dataTable =\n",
              "          await google.colab.kernel.invokeFunction('convertToInteractive',\n",
              "                                                    [key], {});\n",
              "        if (!dataTable) return;\n",
              "\n",
              "        const docLinkHtml = 'Like what you see? Visit the ' +\n",
              "          '<a target=\"_blank\" href=https://colab.research.google.com/notebooks/data_table.ipynb>data table notebook</a>'\n",
              "          + ' to learn more about interactive tables.';\n",
              "        element.innerHTML = '';\n",
              "        dataTable['output_type'] = 'display_data';\n",
              "        await google.colab.output.renderOutput(dataTable, element);\n",
              "        const docLink = document.createElement('div');\n",
              "        docLink.innerHTML = docLinkHtml;\n",
              "        element.appendChild(docLink);\n",
              "      }\n",
              "    </script>\n",
              "  </div>\n",
              "\n",
              "\n",
              "<div id=\"df-75f599e4-6bb8-4523-baf5-d2b821372dc2\">\n",
              "  <button class=\"colab-df-quickchart\" onclick=\"quickchart('df-75f599e4-6bb8-4523-baf5-d2b821372dc2')\"\n",
              "            title=\"Suggest charts\"\n",
              "            style=\"display:none;\">\n",
              "\n",
              "<svg xmlns=\"http://www.w3.org/2000/svg\" height=\"24px\"viewBox=\"0 0 24 24\"\n",
              "     width=\"24px\">\n",
              "    <g>\n",
              "        <path d=\"M19 3H5c-1.1 0-2 .9-2 2v14c0 1.1.9 2 2 2h14c1.1 0 2-.9 2-2V5c0-1.1-.9-2-2-2zM9 17H7v-7h2v7zm4 0h-2V7h2v10zm4 0h-2v-4h2v4z\"/>\n",
              "    </g>\n",
              "</svg>\n",
              "  </button>\n",
              "\n",
              "<style>\n",
              "  .colab-df-quickchart {\n",
              "      --bg-color: #E8F0FE;\n",
              "      --fill-color: #1967D2;\n",
              "      --hover-bg-color: #E2EBFA;\n",
              "      --hover-fill-color: #174EA6;\n",
              "      --disabled-fill-color: #AAA;\n",
              "      --disabled-bg-color: #DDD;\n",
              "  }\n",
              "\n",
              "  [theme=dark] .colab-df-quickchart {\n",
              "      --bg-color: #3B4455;\n",
              "      --fill-color: #D2E3FC;\n",
              "      --hover-bg-color: #434B5C;\n",
              "      --hover-fill-color: #FFFFFF;\n",
              "      --disabled-bg-color: #3B4455;\n",
              "      --disabled-fill-color: #666;\n",
              "  }\n",
              "\n",
              "  .colab-df-quickchart {\n",
              "    background-color: var(--bg-color);\n",
              "    border: none;\n",
              "    border-radius: 50%;\n",
              "    cursor: pointer;\n",
              "    display: none;\n",
              "    fill: var(--fill-color);\n",
              "    height: 32px;\n",
              "    padding: 0;\n",
              "    width: 32px;\n",
              "  }\n",
              "\n",
              "  .colab-df-quickchart:hover {\n",
              "    background-color: var(--hover-bg-color);\n",
              "    box-shadow: 0 1px 2px rgba(60, 64, 67, 0.3), 0 1px 3px 1px rgba(60, 64, 67, 0.15);\n",
              "    fill: var(--button-hover-fill-color);\n",
              "  }\n",
              "\n",
              "  .colab-df-quickchart-complete:disabled,\n",
              "  .colab-df-quickchart-complete:disabled:hover {\n",
              "    background-color: var(--disabled-bg-color);\n",
              "    fill: var(--disabled-fill-color);\n",
              "    box-shadow: none;\n",
              "  }\n",
              "\n",
              "  .colab-df-spinner {\n",
              "    border: 2px solid var(--fill-color);\n",
              "    border-color: transparent;\n",
              "    border-bottom-color: var(--fill-color);\n",
              "    animation:\n",
              "      spin 1s steps(1) infinite;\n",
              "  }\n",
              "\n",
              "  @keyframes spin {\n",
              "    0% {\n",
              "      border-color: transparent;\n",
              "      border-bottom-color: var(--fill-color);\n",
              "      border-left-color: var(--fill-color);\n",
              "    }\n",
              "    20% {\n",
              "      border-color: transparent;\n",
              "      border-left-color: var(--fill-color);\n",
              "      border-top-color: var(--fill-color);\n",
              "    }\n",
              "    30% {\n",
              "      border-color: transparent;\n",
              "      border-left-color: var(--fill-color);\n",
              "      border-top-color: var(--fill-color);\n",
              "      border-right-color: var(--fill-color);\n",
              "    }\n",
              "    40% {\n",
              "      border-color: transparent;\n",
              "      border-right-color: var(--fill-color);\n",
              "      border-top-color: var(--fill-color);\n",
              "    }\n",
              "    60% {\n",
              "      border-color: transparent;\n",
              "      border-right-color: var(--fill-color);\n",
              "    }\n",
              "    80% {\n",
              "      border-color: transparent;\n",
              "      border-right-color: var(--fill-color);\n",
              "      border-bottom-color: var(--fill-color);\n",
              "    }\n",
              "    90% {\n",
              "      border-color: transparent;\n",
              "      border-bottom-color: var(--fill-color);\n",
              "    }\n",
              "  }\n",
              "</style>\n",
              "\n",
              "  <script>\n",
              "    async function quickchart(key) {\n",
              "      const quickchartButtonEl =\n",
              "        document.querySelector('#' + key + ' button');\n",
              "      quickchartButtonEl.disabled = true;  // To prevent multiple clicks.\n",
              "      quickchartButtonEl.classList.add('colab-df-spinner');\n",
              "      try {\n",
              "        const charts = await google.colab.kernel.invokeFunction(\n",
              "            'suggestCharts', [key], {});\n",
              "      } catch (error) {\n",
              "        console.error('Error during call to suggestCharts:', error);\n",
              "      }\n",
              "      quickchartButtonEl.classList.remove('colab-df-spinner');\n",
              "      quickchartButtonEl.classList.add('colab-df-quickchart-complete');\n",
              "    }\n",
              "    (() => {\n",
              "      let quickchartButtonEl =\n",
              "        document.querySelector('#df-75f599e4-6bb8-4523-baf5-d2b821372dc2 button');\n",
              "      quickchartButtonEl.style.display =\n",
              "        google.colab.kernel.accessAllowed ? 'block' : 'none';\n",
              "    })();\n",
              "  </script>\n",
              "</div>\n",
              "\n",
              "    </div>\n",
              "  </div>\n"
            ],
            "application/vnd.google.colaboratory.intrinsic+json": {
              "type": "dataframe",
              "variable_name": "df"
            }
          },
          "metadata": {},
          "execution_count": 2
        }
      ],
      "source": [
        "# 2. Load Dataset\n",
        "\n",
        "# Membaca dataset dari file 'manga.csv' dan menyimpannya ke dalam DataFrame bernama df\n",
        "df = pd.read_csv('consumer_complaints.csv')\n",
        "\n",
        "# Menampilkan 5 baris pertama dari dataset untuk melihat struktur dan sampel datanya\n",
        "df.head()"
      ]
    },
    {
      "cell_type": "markdown",
      "id": "0e0a5523",
      "metadata": {
        "id": "0e0a5523"
      },
      "source": [
        "## Eksplorasi dan Praproses Data"
      ]
    },
    {
      "cell_type": "code",
      "execution_count": 3,
      "id": "18adb01e",
      "metadata": {
        "id": "18adb01e",
        "colab": {
          "base_uri": "https://localhost:8080/"
        },
        "outputId": "e388b996-dc1d-432e-bacb-30d6bc44179c"
      },
      "outputs": [
        {
          "output_type": "stream",
          "name": "stdout",
          "text": [
            "Informasi Data:\n",
            "<class 'pandas.core.frame.DataFrame'>\n",
            "RangeIndex: 555957 entries, 0 to 555956\n",
            "Data columns (total 18 columns):\n",
            " #   Column                        Non-Null Count   Dtype \n",
            "---  ------                        --------------   ----- \n",
            " 0   date_received                 555957 non-null  object\n",
            " 1   product                       555957 non-null  object\n",
            " 2   sub_product                   397635 non-null  object\n",
            " 3   issue                         555957 non-null  object\n",
            " 4   sub_issue                     212622 non-null  object\n",
            " 5   consumer_complaint_narrative  66806 non-null   object\n",
            " 6   company_public_response       85124 non-null   object\n",
            " 7   company                       555957 non-null  object\n",
            " 8   state                         551070 non-null  object\n",
            " 9   zipcode                       551452 non-null  object\n",
            " 10  tags                          77959 non-null   object\n",
            " 11  consumer_consent_provided     123458 non-null  object\n",
            " 12  submitted_via                 555957 non-null  object\n",
            " 13  date_sent_to_company          555957 non-null  object\n",
            " 14  company_response_to_consumer  555957 non-null  object\n",
            " 15  timely_response               555957 non-null  object\n",
            " 16  consumer_disputed?            555957 non-null  object\n",
            " 17  complaint_id                  555957 non-null  int64 \n",
            "dtypes: int64(1), object(17)\n",
            "memory usage: 76.3+ MB\n",
            "None\n",
            "\n",
            "Cek Missing Values:\n",
            "date_received                        0\n",
            "product                              0\n",
            "sub_product                     158322\n",
            "issue                                0\n",
            "sub_issue                       343335\n",
            "consumer_complaint_narrative    489151\n",
            "company_public_response         470833\n",
            "company                              0\n",
            "state                             4887\n",
            "zipcode                           4505\n",
            "tags                            477998\n",
            "consumer_consent_provided       432499\n",
            "submitted_via                        0\n",
            "date_sent_to_company                 0\n",
            "company_response_to_consumer         0\n",
            "timely_response                      0\n",
            "consumer_disputed?                   0\n",
            "complaint_id                         0\n",
            "dtype: int64\n"
          ]
        }
      ],
      "source": [
        "# 3. Eksplorasi dan Praproses Data\n",
        "\n",
        "# Menampilkan informasi umum tentang dataset, termasuk jumlah entri, tipe data, dan non-null count per kolom\n",
        "print(\"Informasi Data:\")\n",
        "print(df.info())\n",
        "\n",
        "# Menampilkan jumlah missing values (nilai kosong) pada setiap kolom\n",
        "print(\"\\nCek Missing Values:\")\n",
        "print(df.isnull().sum())\n",
        "\n",
        "# Menghapus kolom yang memiliki missing values lebih dari 20% total baris\n",
        "df = df.dropna(thresh=0.8*len(df), axis=1)\n",
        "\n",
        "# Menghapus seluruh baris yang masih memiliki missing values setelah proses sebelumnya\n",
        "df = df.dropna()\n",
        "\n",
        "# Melakukan encoding pada kolom-kolom bertipe kategorikal (object) menjadi numerik\n",
        "# Menggunakan LabelEncoder untuk mengubah nilai string menjadi angka\n",
        "label_encoders = {}\n",
        "for col in df.select_dtypes(include='object').columns:\n",
        "    le = LabelEncoder()\n",
        "    df[col] = le.fit_transform(df[col])\n",
        "    label_encoders[col] = le"
      ]
    },
    {
      "cell_type": "markdown",
      "id": "b41c6edb",
      "metadata": {
        "id": "b41c6edb"
      },
      "source": [
        "Bagian kode ini digunakan untuk membersihkan dan menyiapkan data. Pertama, ditampilkan informasi struktur dataset dan jumlah missing values. Kolom dengan terlalu banyak missing values (lebih dari 20%) dihapus, lalu baris yang masih mengandung missing values juga dibuang. Setelah data bersih, semua kolom kategorikal dikonversi menjadi bentuk numerik menggunakan LabelEncoder agar bisa diproses oleh algoritma machine learning."
      ]
    },
    {
      "cell_type": "markdown",
      "id": "63f90095",
      "metadata": {
        "id": "63f90095"
      },
      "source": [
        "## Pisahkan fitur dan target"
      ]
    },
    {
      "cell_type": "code",
      "execution_count": 4,
      "id": "d311be99",
      "metadata": {
        "id": "d311be99",
        "colab": {
          "base_uri": "https://localhost:8080/"
        },
        "outputId": "d583db63-6c2f-4601-eaaa-8fdd9d43467b"
      },
      "outputs": [
        {
          "output_type": "stream",
          "name": "stdout",
          "text": [
            "Ukuran fitur (X): (551060, 11)\n",
            "Ukuran target (y): (551060,)\n"
          ]
        }
      ],
      "source": [
        "# 4. Pisahkan fitur dan target\n",
        "\n",
        "# Memisahkan fitur (X) dan target (y) dari dataset\n",
        "# X berisi semua kolom kecuali 'consumer_disputed?', yang akan digunakan sebagai fitur input\n",
        "X = df.drop('consumer_disputed?', axis=1)\n",
        "# y berisi kolom 'consumer_disputed?', yang akan dijadikan target/output untuk prediksi\n",
        "y = df['consumer_disputed?']\n",
        "\n",
        "# Menampilkan bentuk (dimensi) dari X dan y untuk memastikan pemisahan berjalan dengan benar\n",
        "print(\"Ukuran fitur (X):\", X.shape)\n",
        "print(\"Ukuran target (y):\", y.shape)\n"
      ]
    },
    {
      "cell_type": "markdown",
      "id": "1b3f1e6c",
      "metadata": {
        "id": "1b3f1e6c"
      },
      "source": [
        "Kode ini memisahkan dataset menjadi dua bagian: X (fitur-fitur yang digunakan untuk memprediksi) dan y (target yang akan diprediksi, yaitu kolom 'consumer_disputed?'). Tidak ada output secara default karena hanya melakukan assignment. Untuk memastikan hasilnya benar, kita tambahkan print(X.shape) dan print(y.shape) agar terlihat jumlah baris dan kolom dari masing-masing bagian."
      ]
    },
    {
      "cell_type": "markdown",
      "id": "31684947",
      "metadata": {
        "id": "31684947"
      },
      "source": [
        "## Split data train dan test"
      ]
    },
    {
      "cell_type": "code",
      "execution_count": 5,
      "id": "ba1408f1",
      "metadata": {
        "id": "ba1408f1",
        "colab": {
          "base_uri": "https://localhost:8080/"
        },
        "outputId": "c75d13ce-9cfe-46a4-f9ea-fcc52eb7bf3c"
      },
      "outputs": [
        {
          "output_type": "stream",
          "name": "stdout",
          "text": [
            "Ukuran X_train: (440848, 11)\n",
            "Ukuran X_test : (110212, 11)\n",
            "Ukuran y_train: (440848,)\n",
            "Ukuran y_test : (110212,)\n"
          ]
        }
      ],
      "source": [
        "# 5. Split data train dan test\n",
        "\n",
        "#Memisahkan data menjadi data latih (train) dan data uji (test)\n",
        "X_train, X_test, y_train, y_test = train_test_split(X, y, test_size=0.2, random_state=42)\n",
        "\n",
        "# Menampilkan ukuran masing-masing data hasil split\n",
        "print(\"Ukuran X_train:\", X_train.shape)\n",
        "print(\"Ukuran X_test :\", X_test.shape)\n",
        "print(\"Ukuran y_train:\", y_train.shape)\n",
        "print(\"Ukuran y_test :\", y_test.shape)\n"
      ]
    },
    {
      "cell_type": "markdown",
      "id": "e707d95c",
      "metadata": {
        "id": "e707d95c"
      },
      "source": [
        "test_size=0.2 berarti 20% data akan digunakan untuk pengujian, sisanya 80% untuk pelatihan\n",
        "random_state=42 digunakan agar hasil pembagian data konsisten (reproducible)"
      ]
    },
    {
      "cell_type": "markdown",
      "id": "79c428e5",
      "metadata": {
        "id": "79c428e5"
      },
      "source": [
        "## Feature Scaling"
      ]
    },
    {
      "cell_type": "code",
      "execution_count": 6,
      "id": "4810e8af",
      "metadata": {
        "id": "4810e8af",
        "colab": {
          "base_uri": "https://localhost:8080/"
        },
        "outputId": "a155c4d0-737b-46a0-9532-dda4a902d16c"
      },
      "outputs": [
        {
          "output_type": "stream",
          "name": "stdout",
          "text": [
            "Contoh hasil scaling (X_train):\n",
            "   date_received   product     issue   company     state   zipcode  \\\n",
            "0      -1.562413  0.025789 -0.941094 -0.507212 -1.211264  1.416368   \n",
            "1       1.675852 -0.405874 -0.582496  1.395671  0.748051 -1.301603   \n",
            "2      -0.367628  0.025789 -0.941094 -0.960934  0.805678 -0.039492   \n",
            "3       1.023349 -1.700865 -2.061713 -0.960934  0.748051 -1.333140   \n",
            "4       1.420141  0.025789 -0.941094 -0.641037  0.575170 -1.361866   \n",
            "\n",
            "   submitted_via  date_sent_to_company  company_response_to_consumer  \\\n",
            "0      -2.426530             -1.491492                     -0.458375   \n",
            "1       0.605848              1.676951                     -0.458375   \n",
            "2       0.605848             -0.386646                      1.309348   \n",
            "3      -1.415737              1.352802                     -0.458375   \n",
            "4       0.605848              1.416719                     -0.458375   \n",
            "\n",
            "   timely_response  complaint_id  \n",
            "0         0.160915     -0.521519  \n",
            "1         0.160915      0.369283  \n",
            "2         0.160915     -0.220650  \n",
            "3         0.160915     -0.731760  \n",
            "4         0.160915     -0.635417  \n"
          ]
        }
      ],
      "source": [
        "# 6. Feature Scaling\n",
        "\n",
        "# Melakukan standardisasi (scaling) pada fitur agar semua fitur berada pada skala yang sama\n",
        "# Ini penting agar model seperti SVM dan KNN bisa bekerja dengan lebih akurat\n",
        "\n",
        "scaler = StandardScaler()\n",
        "X_train_scaled = scaler.fit_transform(X_train)  # Menyesuaikan scaler dengan data latih, lalu transformasi\n",
        "X_test_scaled = scaler.transform(X_test)        # Transformasi data uji menggunakan scaler yang sama\n",
        "\n",
        "# Menampilkan contoh hasil scaling dari 5 baris pertama\n",
        "print(\"Contoh hasil scaling (X_train):\")\n",
        "print(pd.DataFrame(X_train_scaled, columns=X_train.columns).head())"
      ]
    },
    {
      "cell_type": "markdown",
      "id": "9892eabd",
      "metadata": {
        "id": "9892eabd"
      },
      "source": [
        "Kode ini melakukan standarisasi fitur dengan StandardScaler, yang mengubah setiap kolom agar memiliki rata-rata 0 dan standar deviasi 1. Ini penting terutama untuk algoritma yang sensitif terhadap skala, seperti SVM dan KNN."
      ]
    },
    {
      "cell_type": "markdown",
      "id": "2c3614a9",
      "metadata": {
        "id": "2c3614a9"
      },
      "source": [
        "## Modeling dan Evaluasi"
      ]
    },
    {
      "cell_type": "code",
      "execution_count": 7,
      "id": "629fe7f1",
      "metadata": {
        "id": "629fe7f1",
        "colab": {
          "base_uri": "https://localhost:8080/"
        },
        "outputId": "732b9a71-8703-4ba7-84a0-dd671a40a5da"
      },
      "outputs": [
        {
          "output_type": "stream",
          "name": "stdout",
          "text": [
            "\n",
            "Model: Linear Regression\n",
            "Mean Squared Error: 0.16\n",
            "R2 Score: 0.01\n",
            "\n",
            "Model: Naive Bayes\n",
            "Mean Squared Error: 0.20\n",
            "R2 Score: -0.25\n",
            "\n",
            "Model: Decision Tree\n",
            "Mean Squared Error: 0.31\n",
            "R2 Score: -0.90\n",
            "\n",
            "Model: KNN\n",
            "Mean Squared Error: 0.18\n",
            "R2 Score: -0.14\n"
          ]
        }
      ],
      "source": [
        "# 7. Modeling dan Evaluasi\n",
        "\n",
        "# Membuat dictionary berisi 5 model supervised learning yang akan digunakan:\n",
        "models = {\n",
        "    'Linear Regression': LinearRegression(),\n",
        "    'Naive Bayes': GaussianNB(),\n",
        "    'Decision Tree': DecisionTreeRegressor(random_state=42),\n",
        "    'KNN': KNeighborsRegressor()\n",
        "}\n",
        "\n",
        "# Dictionary untuk menyimpan hasil evaluasi tiap model\n",
        "results = {}\n",
        "\n",
        "# Melatih dan menguji setiap model dalam loop\n",
        "for name, model in models.items():\n",
        "    model.fit(X_train_scaled, y_train)                   # Melatih model dengan data latih\n",
        "    y_pred = model.predict(X_test_scaled)                # Memprediksi data uji\n",
        "    mse = mean_squared_error(y_test, y_pred)             # Menghitung error (MSE)\n",
        "    r2 = r2_score(y_test, y_pred)                        # Mengukur performa (R2 score)\n",
        "    results[name] = {'MSE': mse, 'R2': r2}               # Simpan hasil evaluasi\n",
        "    print(f\"\\nModel: {name}\")\n",
        "    print(f\"Mean Squared Error: {mse:.2f}\")\n",
        "    print(f\"R2 Score: {r2:.2f}\")"
      ]
    },
    {
      "cell_type": "markdown",
      "id": "7e8922d5",
      "metadata": {
        "id": "7e8922d5"
      },
      "source": [
        "Bagian ini melakukan pelatihan (fit), prediksi, dan evaluasi lima model machine learning berbeda. Setiap model diuji dengan data yang telah distandarisasi, lalu dihitung nilai error-nya menggunakan MSE (Mean Squared Error) dan seberapa baik model menjelaskan variansi data menggunakan R² Score. Hasil evaluasi ditampilkan ke layar dan disimpan dalam dictionary results untuk visualisasi atau analisis lebih lanjut."
      ]
    },
    {
      "cell_type": "markdown",
      "id": "f3c359f5",
      "metadata": {
        "id": "f3c359f5"
      },
      "source": [
        "## Visualisasi Hasil Evaluasi"
      ]
    },
    {
      "cell_type": "code",
      "execution_count": 11,
      "id": "666fd8e3",
      "metadata": {
        "id": "666fd8e3",
        "colab": {
          "base_uri": "https://localhost:8080/",
          "height": 507
        },
        "outputId": "92d96f65-f0bc-4e0b-84ca-0e694312d077"
      },
      "outputs": [
        {
          "output_type": "display_data",
          "data": {
            "text/plain": [
              "<Figure size 1000x500 with 2 Axes>"
            ],
            "image/png": "[encoded data removed]"
          },
          "metadata": {}
        }
      ],
      "source": [
        "# 8. Visualisasi Hasil Evaluasi\n",
        "\n",
        "# Mengubah dictionary hasil evaluasi ke dalam bentuk DataFrame dan mentranspose-nya\n",
        "# Sehingga model menjadi baris dan metrik (MSE, R2) menjadi kolom\n",
        "results_df = pd.DataFrame(results).T\n",
        "\n",
        "# Membuat figure dengan ukuran 10x5 inci dan membaginya menjadi 2 plot samping\n",
        "plt.figure(figsize=(10, 5))\n",
        "\n",
        "# Plot pertama: visualisasi Mean Squared Error untuk setiap model\n",
        "plt.subplot(1, 2, 1)\n",
        "sns.barplot(x=results_df.index, y='MSE', data=results_df)\n",
        "plt.title('MSE per Model')\n",
        "plt.xticks(rotation=45)  # Memiringkan label sumbu X agar mudah dibaca\n",
        "\n",
        "# Plot kedua: visualisasi R2 Score untuk setiap model\n",
        "plt.subplot(1, 2, 2)\n",
        "sns.barplot(x=results_df.index, y='R2', data=results_df)\n",
        "plt.title('R2 Score per Model')\n",
        "plt.xticks(rotation=45)\n",
        "\n",
        "# Menyesuaikan tata letak agar tidak saling menumpuk\n",
        "plt.tight_layout()\n",
        "plt.show()"
      ]
    },
    {
      "cell_type": "markdown",
      "id": "79642a07",
      "metadata": {
        "id": "79642a07"
      },
      "source": [
        "Kode ini menampilkan visualisasi perbandingan performa model berdasarkan dua metrik utama: MSE (semakin kecil semakin baik) dan R² Score (semakin mendekati 1 semakin baik). Hasil prediksi yang sebelumnya disimpan dalam dictionary results diubah ke dalam bentuk DataFrame agar bisa diplot dengan seaborn. Dengan grafik ini, kita bisa dengan mudah melihat model mana yang paling akurat dan efisien."
      ]
    },
    {
      "cell_type": "markdown",
      "id": "3fc84e5c",
      "metadata": {
        "id": "3fc84e5c"
      },
      "source": [
        "## Rekomendasi"
      ]
    },
    {
      "cell_type": "code",
      "execution_count": 9,
      "id": "c7aa0425",
      "metadata": {
        "id": "c7aa0425",
        "colab": {
          "base_uri": "https://localhost:8080/"
        },
        "outputId": "9de5a8d0-956e-4430-a3cb-87f62934d910"
      },
      "outputs": [
        {
          "output_type": "stream",
          "name": "stdout",
          "text": [
            "\n",
            "Rekomendasi:\n",
            "Model terbaik berdasarkan R2 adalah: Linear Regression dengan skor R2 0.01\n"
          ]
        }
      ],
      "source": [
        "# 9. Rekomendasi\n",
        "\n",
        "# Menampilkan rekomendasi model terbaik berdasarkan skor R² tertinggi\n",
        "print(\"\\nRekomendasi:\")\n",
        "\n",
        "# Mencari nama model dengan nilai R² paling tinggi\n",
        "best_model = results_df['R2'].idxmax()\n",
        "\n",
        "# Menampilkan nama model terbaik dan skor R²-nya\n",
        "print(f\"Model terbaik berdasarkan R2 adalah: {best_model} dengan skor R2 {results_df.loc[best_model, 'R2']:.2f}\")"
      ]
    },
    {
      "cell_type": "markdown",
      "id": "8983c425",
      "metadata": {
        "id": "8983c425"
      },
      "source": [
        "Bagian ini digunakan untuk memberikan rekomendasi akhir berdasarkan evaluasi model. Model dengan nilai R² tertinggi dianggap paling baik karena mampu menjelaskan variansi data target dengan paling akurat. Nilai R² tersebut ditampilkan bersama nama modelnya sebagai hasil akhir analisis."
      ]
    }
  ],
  "metadata": {
    "kernelspec": {
      "display_name": "Python 3",
      "language": "python",
      "name": "python3"
    },
    "language_info": {
      "codemirror_mode": {
        "name": "ipython",
        "version": 3
      },
      "file_extension": ".py",
      "mimetype": "text/x-python",
      "name": "python",
      "nbconvert_exporter": "python",
      "pygments_lexer": "ipython3",
      "version": "3.11.9"
    },
    "colab": {
      "provenance": [],
      "include_colab_link": true
    }
  },
  "nbformat": 4,
  "nbformat_minor": 5
}